{
 "cells": [
  {
   "cell_type": "code",
   "execution_count": 1,
   "metadata": {},
   "outputs": [],
   "source": [
    "import requests, os\n",
    "from dotenv import load_dotenv\n",
    "import polars as pl"
   ]
  },
  {
   "cell_type": "code",
   "execution_count": 2,
   "metadata": {},
   "outputs": [
    {
     "data": {
      "text/plain": [
       "True"
      ]
     },
     "execution_count": 2,
     "metadata": {},
     "output_type": "execute_result"
    }
   ],
   "source": [
    "load_dotenv()"
   ]
  },
  {
   "cell_type": "code",
   "execution_count": 9,
   "metadata": {},
   "outputs": [],
   "source": [
    "input_folder_path = 'data/study_plan'\n",
    "output_folder_path = 'data/output'\n",
    "\n",
    "# Get the SMART_PARSER_ENDPOINT from environment variables\n",
    "smart_parser_endpoint = os.getenv('SMART_PARSER_ENDPOINT')\n",
    "\n",
    "# Check if the endpoint is set\n",
    "if not smart_parser_endpoint:\n",
    "    raise ValueError(\"SMART_PARSER_ENDPOINT is not set in the environment variables.\")"
   ]
  },
  {
   "cell_type": "code",
   "execution_count": 20,
   "metadata": {},
   "outputs": [
    {
     "data": {
      "text/plain": [
       "['data/study_plan/StudyPlan_Edoardo_Sezzi.pdf']"
      ]
     },
     "execution_count": 20,
     "metadata": {},
     "output_type": "execute_result"
    }
   ],
   "source": [
    "# List all files in the specified folder\n",
    "files = os.listdir(input_folder_path)\n",
    "# Filter out directories, only keep files\n",
    "files = [os.path.join(input_folder_path, f) for f in files if os.path.isfile(os.path.join(input_folder_path, f))]\n",
    "\n",
    "files"
   ]
  },
  {
   "cell_type": "code",
   "execution_count": 21,
   "metadata": {},
   "outputs": [
    {
     "name": "stdout",
     "output_type": "stream",
     "text": [
      "Request was successful.\n",
      "Response JSON: {'stp-llm-version': '576ac470709e376ab8511158b50944dd28889ddb', 'timestamp': '2024-12-09_17:05:19', 'filename': 'StudyPlan_Edoardo_Sezzi.pdf', 'document_tables': [{'degree_course': [], 'academic_year': [], 'semester': [], 'data': ['01/02/2013', '04/02/2013', '27/06/2013', '01/07/2013', '04/07/2013', '21/10/2013', '24/10/2013'], 'code': ['20136', '20199', '20142', '20203', '20269', '20297', '20282'], 'ssd': ['SECS-S/06 (8)', 'SECS-P/07 (12)', 'IUS/04 (6)', 'SECS-P/05 (8)', 'SECS-P/02 (6)', 'SECS-P/01 (6)', 'SECS-P/12 (6)'], 'cfu': ['8', '12', '6', '8', '6', '6', '6'], 'taf': ['B', 'B', 'B', 'B', 'B', 'B', 'C'], 'exam': [\"MATEMATICA AVANZATA PER L'ECONOMIA E LE SCIENZE SOCIALI (DIDATTICA IN ITALIANO)\", \"ISTITUZIONI, GOVERNO E SOCIETA' (DIDATTICA IN ITALIANO)\", \"DIRITTO DELL'IMPRESA E DEL MERCATO (DIDATTICA IN ITALIANO)\", 'ANALISI ECONOMETRICA (DIDATTICA IN ITALIANO)', 'ECONOMICS OF EUROPEAN INTEGRATION (DIDATTICA IN INGLESE)', 'MONETARY POLICY (DIDATTICA IN INGLESE)', 'STORIA, ISTITUZIONI E CRISI DEL SISTEMA'], 'grade': ['VENTISEI', 'VENTISETTE', 'VENTICINQUE', 'VENTOTTO', 'VENTISEI', 'TRENTA.', 'TRENTA.']}, {'degree_course': [], 'academic_year': [], 'semester': [], 'data': ['17/09/2014', '17/09/2014', '17/09/2014', '23/10/2014', '03/11/2014', '20/01/2015', '05/02/2015'], 'code': ['20285', '20402', '20463', '20406', '20119', '20371', '20374'], 'ssd': ['SECS-P/01 (6)', 'SECS-P/06 (6)', 'SECS-P/01 (6)', 'SECS-P/12 (6)', 'None', 'NN (0)', 'NN (0)'], 'cfu': ['6', '6', '6', '6', '8', '4', '4'], 'taf': ['B', 'D', 'D', 'D', 'F', 'F', 'F'], 'exam': ['ADVANCED MACROECONOMICS (DIDATTICA IN INGLESE)\\n- MACROECONOMIC THEORY - EMPIRICAL MACROECONOMICS', 'INNOVATION, GROWTH AND SUSTAINABILITY (DIDATTICA IN INGLESE)\\n- SUSTAINABLE INTERNATIONAL BUSINESS', 'COMPETITION POLICY, REGULATION AND LIBERALIZATIONS (DIDATTICA IN INGLESE)\\n- COMPETITION POLICY', 'LA GLOBALIZZAZIONE IN PROSPETTIVA STORICA: ECONOMIA, POLITICA E ISTITUZIONI (DIDATTICA IN ITALIANO)', \"STAGE O ATTIVITA' ASSIMILABILI\", 'LINGUA INGLESE (Livello C1)', 'LINGUA SPAGNOLA (Livello B1)'], 'grade': ['VENTISETTE', 'VENTINOVE', 'TRENTA. =', 'VENTOTTO', 'IDONEO', 'TRENTA E LODE', 'VENTITRÈ']}, {'academic_year': [], 'semester': [], 'cfu': [], 'code': [], 'degree_course': [], 'data': [], 'description': [], 'exam': [], 'importo': [], 'matricola': [], 'ssd': [], 'taf': [], 'grade': [], 'other': ['ART. 75 e 76 DPR 445/2000']}]}\n"
     ]
    }
   ],
   "source": [
    "for file in files:\n",
    "    # Prepare the payload\n",
    "    with open(file, 'rb') as pdf_file:\n",
    "        study_plan_file = {'file': pdf_file}  # Key is 'file'\n",
    "\n",
    "        # Make the POST request\n",
    "        response = requests.post(smart_parser_endpoint + 'parse', files=study_plan_file)\n",
    "\n",
    "        # Check the response status\n",
    "        if response.status_code == 200:\n",
    "            print(\"Request was successful.\")\n",
    "            print(\"Response JSON:\", response.json())  # Print the response JSON if applicable\n",
    "        else:\n",
    "            print(f\"Request failed with status code: {response.status_code}\")\n",
    "            print(\"Response text:\", response.text)  # Print the response text for debugging"
   ]
  },
  {
   "cell_type": "code",
   "execution_count": 29,
   "metadata": {},
   "outputs": [
    {
     "data": {
      "text/plain": [
       "[{'degree_course': [],\n",
       "  'academic_year': [],\n",
       "  'semester': [],\n",
       "  'data': ['01/02/2013',\n",
       "   '04/02/2013',\n",
       "   '27/06/2013',\n",
       "   '01/07/2013',\n",
       "   '04/07/2013',\n",
       "   '21/10/2013',\n",
       "   '24/10/2013'],\n",
       "  'code': ['20136', '20199', '20142', '20203', '20269', '20297', '20282'],\n",
       "  'ssd': ['SECS-S/06 (8)',\n",
       "   'SECS-P/07 (12)',\n",
       "   'IUS/04 (6)',\n",
       "   'SECS-P/05 (8)',\n",
       "   'SECS-P/02 (6)',\n",
       "   'SECS-P/01 (6)',\n",
       "   'SECS-P/12 (6)'],\n",
       "  'cfu': ['8', '12', '6', '8', '6', '6', '6'],\n",
       "  'taf': ['B', 'B', 'B', 'B', 'B', 'B', 'C'],\n",
       "  'exam': [\"MATEMATICA AVANZATA PER L'ECONOMIA E LE SCIENZE SOCIALI (DIDATTICA IN ITALIANO)\",\n",
       "   \"ISTITUZIONI, GOVERNO E SOCIETA' (DIDATTICA IN ITALIANO)\",\n",
       "   \"DIRITTO DELL'IMPRESA E DEL MERCATO (DIDATTICA IN ITALIANO)\",\n",
       "   'ANALISI ECONOMETRICA (DIDATTICA IN ITALIANO)',\n",
       "   'ECONOMICS OF EUROPEAN INTEGRATION (DIDATTICA IN INGLESE)',\n",
       "   'MONETARY POLICY (DIDATTICA IN INGLESE)',\n",
       "   'STORIA, ISTITUZIONI E CRISI DEL SISTEMA'],\n",
       "  'grade': ['VENTISEI',\n",
       "   'VENTISETTE',\n",
       "   'VENTICINQUE',\n",
       "   'VENTOTTO',\n",
       "   'VENTISEI',\n",
       "   'TRENTA.',\n",
       "   'TRENTA.']},\n",
       " {'degree_course': [],\n",
       "  'academic_year': [],\n",
       "  'semester': [],\n",
       "  'data': ['17/09/2014',\n",
       "   '17/09/2014',\n",
       "   '17/09/2014',\n",
       "   '23/10/2014',\n",
       "   '03/11/2014',\n",
       "   '20/01/2015',\n",
       "   '05/02/2015'],\n",
       "  'code': ['20285', '20402', '20463', '20406', '20119', '20371', '20374'],\n",
       "  'ssd': ['SECS-P/01 (6)',\n",
       "   'SECS-P/06 (6)',\n",
       "   'SECS-P/01 (6)',\n",
       "   'SECS-P/12 (6)',\n",
       "   'None',\n",
       "   'NN (0)',\n",
       "   'NN (0)'],\n",
       "  'cfu': ['6', '6', '6', '6', '8', '4', '4'],\n",
       "  'taf': ['B', 'D', 'D', 'D', 'F', 'F', 'F'],\n",
       "  'exam': ['ADVANCED MACROECONOMICS (DIDATTICA IN INGLESE)\\n- MACROECONOMIC THEORY - EMPIRICAL MACROECONOMICS',\n",
       "   'INNOVATION, GROWTH AND SUSTAINABILITY (DIDATTICA IN INGLESE)\\n- SUSTAINABLE INTERNATIONAL BUSINESS',\n",
       "   'COMPETITION POLICY, REGULATION AND LIBERALIZATIONS (DIDATTICA IN INGLESE)\\n- COMPETITION POLICY',\n",
       "   'LA GLOBALIZZAZIONE IN PROSPETTIVA STORICA: ECONOMIA, POLITICA E ISTITUZIONI (DIDATTICA IN ITALIANO)',\n",
       "   \"STAGE O ATTIVITA' ASSIMILABILI\",\n",
       "   'LINGUA INGLESE (Livello C1)',\n",
       "   'LINGUA SPAGNOLA (Livello B1)'],\n",
       "  'grade': ['VENTISETTE',\n",
       "   'VENTINOVE',\n",
       "   'TRENTA. =',\n",
       "   'VENTOTTO',\n",
       "   'IDONEO',\n",
       "   'TRENTA E LODE',\n",
       "   'VENTITRÈ']},\n",
       " {'academic_year': [],\n",
       "  'semester': [],\n",
       "  'cfu': [],\n",
       "  'code': [],\n",
       "  'degree_course': [],\n",
       "  'data': [],\n",
       "  'description': [],\n",
       "  'exam': [],\n",
       "  'importo': [],\n",
       "  'matricola': [],\n",
       "  'ssd': [],\n",
       "  'taf': [],\n",
       "  'grade': [],\n",
       "  'other': ['ART. 75 e 76 DPR 445/2000']}]"
      ]
     },
     "execution_count": 29,
     "metadata": {},
     "output_type": "execute_result"
    }
   ],
   "source": [
    "tables = response.json()['document_tables']\n",
    "tables"
   ]
  },
  {
   "cell_type": "code",
   "execution_count": 33,
   "metadata": {},
   "outputs": [],
   "source": [
    "dates = []\n",
    "codes = []\n",
    "ssds = []\n",
    "cfus = []\n",
    "tags = []\n",
    "exams = []\n",
    "grades = []\n",
    "\n",
    "for table in tables:\n",
    "\n",
    "    dates.append([table.get('data')])\n",
    "    codes.append(table.get('code'))\n",
    "    ssds.append(table.get('ssd'))\n",
    "    cfus.append(table.get('cfu'))\n",
    "    tags.append(table.get('tag'))\n",
    "    exams.append(table.get('exam'))\n",
    "    grades.append(table.get('grade'))\n"
   ]
  },
  {
   "cell_type": "code",
   "execution_count": 34,
   "metadata": {},
   "outputs": [
    {
     "data": {
      "text/plain": [
       "[['0',\n",
       "  '1',\n",
       "  '/',\n",
       "  '0',\n",
       "  '2',\n",
       "  '/',\n",
       "  '2',\n",
       "  '0',\n",
       "  '1',\n",
       "  '3',\n",
       "  '0',\n",
       "  '4',\n",
       "  '/',\n",
       "  '0',\n",
       "  '2',\n",
       "  '/',\n",
       "  '2',\n",
       "  '0',\n",
       "  '1',\n",
       "  '3',\n",
       "  '2',\n",
       "  '7',\n",
       "  '/',\n",
       "  '0',\n",
       "  '6',\n",
       "  '/',\n",
       "  '2',\n",
       "  '0',\n",
       "  '1',\n",
       "  '3',\n",
       "  '0',\n",
       "  '1',\n",
       "  '/',\n",
       "  '0',\n",
       "  '7',\n",
       "  '/',\n",
       "  '2',\n",
       "  '0',\n",
       "  '1',\n",
       "  '3',\n",
       "  '0',\n",
       "  '4',\n",
       "  '/',\n",
       "  '0',\n",
       "  '7',\n",
       "  '/',\n",
       "  '2',\n",
       "  '0',\n",
       "  '1',\n",
       "  '3',\n",
       "  '2',\n",
       "  '1',\n",
       "  '/',\n",
       "  '1',\n",
       "  '0',\n",
       "  '/',\n",
       "  '2',\n",
       "  '0',\n",
       "  '1',\n",
       "  '3',\n",
       "  '2',\n",
       "  '4',\n",
       "  '/',\n",
       "  '1',\n",
       "  '0',\n",
       "  '/',\n",
       "  '2',\n",
       "  '0',\n",
       "  '1',\n",
       "  '3'],\n",
       " ['1',\n",
       "  '7',\n",
       "  '/',\n",
       "  '0',\n",
       "  '9',\n",
       "  '/',\n",
       "  '2',\n",
       "  '0',\n",
       "  '1',\n",
       "  '4',\n",
       "  '1',\n",
       "  '7',\n",
       "  '/',\n",
       "  '0',\n",
       "  '9',\n",
       "  '/',\n",
       "  '2',\n",
       "  '0',\n",
       "  '1',\n",
       "  '4',\n",
       "  '1',\n",
       "  '7',\n",
       "  '/',\n",
       "  '0',\n",
       "  '9',\n",
       "  '/',\n",
       "  '2',\n",
       "  '0',\n",
       "  '1',\n",
       "  '4',\n",
       "  '2',\n",
       "  '3',\n",
       "  '/',\n",
       "  '1',\n",
       "  '0',\n",
       "  '/',\n",
       "  '2',\n",
       "  '0',\n",
       "  '1',\n",
       "  '4',\n",
       "  '0',\n",
       "  '3',\n",
       "  '/',\n",
       "  '1',\n",
       "  '1',\n",
       "  '/',\n",
       "  '2',\n",
       "  '0',\n",
       "  '1',\n",
       "  '4',\n",
       "  '2',\n",
       "  '0',\n",
       "  '/',\n",
       "  '0',\n",
       "  '1',\n",
       "  '/',\n",
       "  '2',\n",
       "  '0',\n",
       "  '1',\n",
       "  '5',\n",
       "  '0',\n",
       "  '5',\n",
       "  '/',\n",
       "  '0',\n",
       "  '2',\n",
       "  '/',\n",
       "  '2',\n",
       "  '0',\n",
       "  '1',\n",
       "  '5'],\n",
       " []]"
      ]
     },
     "execution_count": 34,
     "metadata": {},
     "output_type": "execute_result"
    }
   ],
   "source": [
    "dates"
   ]
  }
 ],
 "metadata": {
  "kernelspec": {
   "display_name": ".venv",
   "language": "python",
   "name": "python3"
  },
  "language_info": {
   "codemirror_mode": {
    "name": "ipython",
    "version": 3
   },
   "file_extension": ".py",
   "mimetype": "text/x-python",
   "name": "python",
   "nbconvert_exporter": "python",
   "pygments_lexer": "ipython3",
   "version": "3.11.10"
  }
 },
 "nbformat": 4,
 "nbformat_minor": 2
}
