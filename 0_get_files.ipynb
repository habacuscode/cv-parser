{
 "cells": [
  {
   "cell_type": "code",
   "execution_count": 1,
   "metadata": {},
   "outputs": [],
   "source": [
    "import gspread, requests, os\n",
    "from oauth2client.service_account import ServiceAccountCredentials\n",
    "from pydrive2.auth import GoogleAuth\n",
    "from pydrive2.drive import GoogleDrive\n",
    "from dotenv import load_dotenv\n",
    "import polars as pl"
   ]
  },
  {
   "cell_type": "code",
   "execution_count": 2,
   "metadata": {},
   "outputs": [
    {
     "data": {
      "text/plain": [
       "True"
      ]
     },
     "execution_count": 2,
     "metadata": {},
     "output_type": "execute_result"
    }
   ],
   "source": [
    "load_dotenv()"
   ]
  },
  {
   "cell_type": "code",
   "execution_count": 3,
   "metadata": {},
   "outputs": [],
   "source": [
    "cv_folder_path = 'data/cv'\n",
    "study_plan_folder_path = 'data/study_plan'"
   ]
  },
  {
   "cell_type": "code",
   "execution_count": 4,
   "metadata": {},
   "outputs": [],
   "source": [
    "sheet_position = '2'\n",
    "file_id = '1i4mB9W2Ef0WjsORA3vadugfXSHiuEJu-i6kj4DNTBsw'"
   ]
  },
  {
   "cell_type": "code",
   "execution_count": 14,
   "metadata": {},
   "outputs": [],
   "source": [
    "expected_headers = [\n",
    "    \"Added Time\",\n",
    "    \"IP Address\",\n",
    "    \"St user ID Habacus\",\n",
    "    \"I tuoi dati\",\n",
    "    \"Email\",\n",
    "    \"Hai concluso gli studi post-diploma?\",\n",
    "    \"Quando hai conseguito il titolo?\",\n",
    "    \"Tra quanto prevedi di concludere gli studi?\",\n",
    "    \"Con quale valutazione?\",\n",
    "    \"Stai cercando lavoro in questo momento?\",\n",
    "    \"Inserisci il tuo URL LinkedIn\",\n",
    "    \"Come vuoi procedere?\",\n",
    "    \"Carica il tuo libretto universitario\",\n",
    "    \"Quando hai iniziato il percorso formativo?\",\n",
    "    \"Presso quale ente formativo?\",\n",
    "    \"Inserisci il tipo del corso\",\n",
    "    \"Inserisci il nome del corso\",\n",
    "    \"Come vuoi procedere?\",\n",
    "    \"Carica il tuo CV\",\n",
    "    \"Non ho esperienza lavorativa\",\n",
    "    \"Inizio impiego\",\n",
    "    \"Fine impiego\",\n",
    "    \"Nome azienda\",\n",
    "    \"Nome del ruolo\",\n",
    "    \"In cosa consiste?\",\n",
    "    \"Hai altre esperienze lavorative che vuoi aggiungere?\",\n",
    "    \"Inizio impiego\",\n",
    "    \"Fine impiego\",\n",
    "    \"Nome Azienda\",\n",
    "    \"Nome del ruolo\",\n",
    "    \"In cosa consiste?\",\n",
    "    \"Hai altre esperienze lavorative che vuoi aggiungere?\",\n",
    "    \"Inizio impiego\",\n",
    "    \"Fine impiego\",\n",
    "    \"Nome Azienda\",\n",
    "    \"Nome del ruolo\",\n",
    "    \"In cosa consiste?\",\n",
    "    \"Non ho esperienze extra-lavorative\",\n",
    "    \"Quale/i tra queste attività hai svolto?\",\n",
    "    \"Seleziona una lingua\",\n",
    "    \"Lingua nativa\",\n",
    "    \"Con quale livello?\",\n",
    "    \"1_Conosci altre lingue?\",\n",
    "    \"Seleziona una lingua\",\n",
    "    \"Lingua nativa\",\n",
    "    \"Con quale livello?\",\n",
    "    \"Conosci altre lingue?\",\n",
    "    \"Seleziona una lingua\",\n",
    "    \"Lingua nativa\",\n",
    "    \"Con quale livello?\",\n",
    "    \"Conosci altre lingue?\",\n",
    "    \"Seleziona una lingua\",\n",
    "    \"Lingua nativa\",\n",
    "    \"Con quale livello?\",\n",
    "    \"Se potessi scegliere una sfida da affrontare domani al lavoro, quale sarebbe?\",\n",
    "    \"In quale di queste attività senti di avere più talento naturale?\",\n",
    "    \"Quale frase ti rappresenta meglio quando lavori in gruppo?\",\n",
    "    \"Qual è stato il progetto (universitario, personale o professionale) per cui provi più orgoglio?\",\n",
    "    \"Immagina che domani un’azienda ti assuma. Qual è il primo aspetto su cui vorresti ricevere formazione?\",\n",
    "    \"Hai preferenze su dove lavorare?\",\n",
    "    \"Hai mai valutato la possibilità di trasferirti per studiare o lavorare?\",\n",
    "    \"Quali località preferiresti?\",\n",
    "    \"In che modalità?\",\n",
    "    \"Quale modalità di lavoro prediligi?\",\n",
    "    'Zoho CRM',\n",
    "    'Uuid',\t\n",
    "    \"Con Lode\",\t\n",
    "    \"Terms and Conditions\"\n",
    "]"
   ]
  },
  {
   "cell_type": "code",
   "execution_count": 15,
   "metadata": {},
   "outputs": [],
   "source": [
    "# Dictionary to keep track of occurrences\n",
    "header_count = {}\n",
    "\n",
    "# New list to store modified headers\n",
    "modified_headers = []\n",
    "\n",
    "for header in expected_headers:\n",
    "    if header in header_count:\n",
    "        header_count[header] += 1\n",
    "        # Append suffix to the header\n",
    "        modified_headers.append(f\"{header}_{header_count[header]}\")\n",
    "    else:\n",
    "        header_count[header] = 1\n",
    "        modified_headers.append(header)\n"
   ]
  },
  {
   "cell_type": "code",
   "execution_count": 16,
   "metadata": {},
   "outputs": [],
   "source": [
    "# Define the scope\n",
    "scope = [\"https://spreadsheets.google.com/feeds\", \"https://www.googleapis.com/auth/drive\"]\n",
    "\n",
    "# Load the service account credentials\n",
    "creds = ServiceAccountCredentials.from_json_keyfile_name(os.getenv('GOOGLE_APPLICATION_CREDENTIALS'), scope)\n",
    "\n",
    "# Authorize the client\n",
    "client = gspread.authorize(creds)\n",
    "\n",
    "# Open the Google Sheet by name or URL\n",
    "sheet = client.open('01_Community Hiring').get_worksheet(1)  # or use .get_worksheet(index)\n",
    "\n",
    "\n",
    "# Get all values from the sheet\n",
    "data = sheet.get_all_values()[1:]\n"
   ]
  },
  {
   "cell_type": "code",
   "execution_count": 17,
   "metadata": {},
   "outputs": [
    {
     "data": {
      "text/html": [
       "<div><style>\n",
       ".dataframe > thead > tr,\n",
       ".dataframe > tbody > tr {\n",
       "  text-align: right;\n",
       "  white-space: pre-wrap;\n",
       "}\n",
       "</style>\n",
       "<small>shape: (2, 68)</small><table border=\"1\" class=\"dataframe\"><thead><tr><th>Added Time</th><th>IP Address</th><th>St user ID Habacus</th><th>I tuoi dati</th><th>Email</th><th>Hai concluso gli studi post-diploma?</th><th>Quando hai conseguito il titolo?</th><th>Tra quanto prevedi di concludere gli studi?</th><th>Con quale valutazione?</th><th>Stai cercando lavoro in questo momento?</th><th>Inserisci il tuo URL LinkedIn</th><th>Come vuoi procedere?</th><th>Carica il tuo libretto universitario</th><th>Quando hai iniziato il percorso formativo?</th><th>Presso quale ente formativo?</th><th>Inserisci il tipo del corso</th><th>Inserisci il nome del corso</th><th>Come vuoi procedere?_2</th><th>Carica il tuo CV</th><th>Non ho esperienza lavorativa</th><th>Inizio impiego</th><th>Fine impiego</th><th>Nome azienda</th><th>Nome del ruolo</th><th>In cosa consiste?</th><th>Hai altre esperienze lavorative che vuoi aggiungere?</th><th>Inizio impiego_2</th><th>Fine impiego_2</th><th>Nome Azienda</th><th>Nome del ruolo_2</th><th>In cosa consiste?_2</th><th>Hai altre esperienze lavorative che vuoi aggiungere?_2</th><th>Inizio impiego_3</th><th>Fine impiego_3</th><th>Nome Azienda_2</th><th>Nome del ruolo_3</th><th>In cosa consiste?_3</th><th>Non ho esperienze extra-lavorative</th><th>Quale/i tra queste attività hai svolto?</th><th>Seleziona una lingua</th><th>Lingua nativa</th><th>Con quale livello?</th><th>1_Conosci altre lingue?</th><th>Seleziona una lingua_2</th><th>Lingua nativa_2</th><th>Con quale livello?_2</th><th>Conosci altre lingue?</th><th>Seleziona una lingua_3</th><th>Lingua nativa_3</th><th>Con quale livello?_3</th><th>Conosci altre lingue?_2</th><th>Seleziona una lingua_4</th><th>Lingua nativa_4</th><th>Con quale livello?_4</th><th>Se potessi scegliere una sfida da affrontare domani al lavoro, quale sarebbe?</th><th>In quale di queste attività senti di avere più talento naturale?</th><th>Quale frase ti rappresenta meglio quando lavori in gruppo?</th><th>Qual è stato il progetto (universitario, personale o professionale) per cui provi più orgoglio?</th><th>Immagina che domani un’azienda ti assuma. Qual è il primo aspetto su cui vorresti ricevere formazione?</th><th>Hai preferenze su dove lavorare?</th><th>Hai mai valutato la possibilità di trasferirti per studiare o lavorare?</th><th>Quali località preferiresti?</th><th>In che modalità?</th><th>Quale modalità di lavoro prediligi?</th><th>Zoho CRM</th><th>Uuid</th><th>Con Lode</th><th>Terms and Conditions</th></tr><tr><td>str</td><td>str</td><td>str</td><td>str</td><td>str</td><td>str</td><td>str</td><td>str</td><td>str</td><td>str</td><td>str</td><td>str</td><td>str</td><td>str</td><td>str</td><td>str</td><td>str</td><td>str</td><td>str</td><td>str</td><td>str</td><td>str</td><td>str</td><td>str</td><td>str</td><td>str</td><td>str</td><td>str</td><td>str</td><td>str</td><td>str</td><td>str</td><td>str</td><td>str</td><td>str</td><td>str</td><td>str</td><td>str</td><td>str</td><td>str</td><td>str</td><td>str</td><td>str</td><td>str</td><td>str</td><td>str</td><td>str</td><td>str</td><td>str</td><td>str</td><td>str</td><td>str</td><td>str</td><td>str</td><td>str</td><td>str</td><td>str</td><td>str</td><td>str</td><td>str</td><td>str</td><td>str</td><td>str</td><td>str</td><td>str</td><td>str</td><td>str</td><td>str</td></tr></thead><tbody><tr><td>&quot;06-Dec-2024 11:37:40&quot;</td><td>&quot;&quot;</td><td>&quot;&quot;</td><td>&quot;Gabriella, Berardi&quot;</td><td>&quot;gabriellaberardi.mail@gmail.co…</td><td>&quot;No, sto studiando&quot;</td><td>&quot;&quot;</td><td>&quot;&quot;</td><td>&quot;&quot;</td><td>&quot;&quot;</td><td>&quot;&quot;</td><td>&quot;Inserisco solo delle informazi…</td><td>&quot;&quot;</td><td>&quot;Feb-2022&quot;</td><td>&quot;NABA - Nuova Accademia di Bell…</td><td>&quot;Laurea triennale&quot;</td><td>&quot;DESIGN DEL PRODOTTO&quot;</td><td>&quot;Ho un CV&quot;</td><td>&quot;https://drive.google.com/file/…</td><td>&quot;&quot;</td><td>&quot;&quot;</td><td>&quot;&quot;</td><td>&quot;&quot;</td><td>&quot;&quot;</td><td>&quot;&quot;</td><td>&quot;&quot;</td><td>&quot;&quot;</td><td>&quot;&quot;</td><td>&quot;&quot;</td><td>&quot;&quot;</td><td>&quot;&quot;</td><td>&quot;&quot;</td><td>&quot;&quot;</td><td>&quot;&quot;</td><td>&quot;&quot;</td><td>&quot;&quot;</td><td>&quot;&quot;</td><td>&quot;&quot;</td><td>&quot;&quot;</td><td>&quot;&quot;</td><td>&quot;&quot;</td><td>&quot;&quot;</td><td>&quot;&quot;</td><td>&quot;&quot;</td><td>&quot;&quot;</td><td>&quot;&quot;</td><td>&quot;&quot;</td><td>&quot;&quot;</td><td>&quot;&quot;</td><td>&quot;&quot;</td><td>&quot;&quot;</td><td>&quot;&quot;</td><td>&quot;&quot;</td><td>&quot;&quot;</td><td>&quot;&quot;</td><td>&quot;&quot;</td><td>&quot;&quot;</td><td>&quot;FAKJFADKFJAFKJAHLFJHWEBFLAJHWE…</td><td>&quot;&quot;</td><td>&quot;Non ho preferenze&quot;</td><td>&quot;Sì&quot;</td><td>&quot;Valuterei in base all&#x27;opportun…</td><td>&quot;&quot;</td><td>&quot;&quot;</td><td>&quot;&quot;</td><td>&quot;&quot;</td><td>&quot;&quot;</td><td>&quot;&quot;</td></tr><tr><td>&quot;06-Dec-2024 15:56:20&quot;</td><td>&quot;&quot;</td><td>&quot;&quot;</td><td>&quot;Edoardo, Sezzi&quot;</td><td>&quot;edoardo.sezzi@habacus.com&quot;</td><td>&quot;Sì&quot;</td><td>&quot;Nov-2023&quot;</td><td>&quot;&quot;</td><td>&quot;100&quot;</td><td>&quot;&quot;</td><td>&quot;&quot;</td><td>&quot;Carico Libretto per trovare la…</td><td>&quot;https://drive.google.com/file/…</td><td>&quot;&quot;</td><td>&quot;&quot;</td><td>&quot;&quot;</td><td>&quot;&quot;</td><td>&quot;Ho un CV&quot;</td><td>&quot;https://drive.google.com/file/…</td><td>&quot;&quot;</td><td>&quot;&quot;</td><td>&quot;&quot;</td><td>&quot;&quot;</td><td>&quot;&quot;</td><td>&quot;&quot;</td><td>&quot;&quot;</td><td>&quot;&quot;</td><td>&quot;&quot;</td><td>&quot;&quot;</td><td>&quot;&quot;</td><td>&quot;&quot;</td><td>&quot;&quot;</td><td>&quot;&quot;</td><td>&quot;&quot;</td><td>&quot;&quot;</td><td>&quot;&quot;</td><td>&quot;&quot;</td><td>&quot;&quot;</td><td>&quot;&quot;</td><td>&quot;&quot;</td><td>&quot;&quot;</td><td>&quot;&quot;</td><td>&quot;&quot;</td><td>&quot;&quot;</td><td>&quot;&quot;</td><td>&quot;&quot;</td><td>&quot;&quot;</td><td>&quot;&quot;</td><td>&quot;&quot;</td><td>&quot;&quot;</td><td>&quot;&quot;</td><td>&quot;&quot;</td><td>&quot;&quot;</td><td>&quot;&quot;</td><td>&quot;Inventare un nuovo prodotto o …</td><td>&quot;Ideare soluzioni creative a pr…</td><td>&quot;Trovo soluzioni e aiuto il tea…</td><td>&quot;Niente in particolare&quot;</td><td>&quot;Strumenti o tecnologie specifi…</td><td>&quot;Startup, Multinazionali o gran…</td><td>&quot;Sì&quot;</td><td>&quot;Roma, Estero (Mondo)&quot;</td><td>&quot;&quot;</td><td>&quot;Ibrida&quot;</td><td>&quot;&quot;</td><td>&quot;&quot;</td><td>&quot;&quot;</td><td>&quot;&quot;</td></tr></tbody></table></div>"
      ],
      "text/plain": [
       "shape: (2, 68)\n",
       "┌─────────────┬────────────┬────────────┬────────────┬───┬──────────┬──────┬──────────┬────────────┐\n",
       "│ Added Time  ┆ IP Address ┆ St user ID ┆ I tuoi     ┆ … ┆ Zoho CRM ┆ Uuid ┆ Con Lode ┆ Terms and  │\n",
       "│ ---         ┆ ---        ┆ Habacus    ┆ dati       ┆   ┆ ---      ┆ ---  ┆ ---      ┆ Conditions │\n",
       "│ str         ┆ str        ┆ ---        ┆ ---        ┆   ┆ str      ┆ str  ┆ str      ┆ ---        │\n",
       "│             ┆            ┆ str        ┆ str        ┆   ┆          ┆      ┆          ┆ str        │\n",
       "╞═════════════╪════════════╪════════════╪════════════╪═══╪══════════╪══════╪══════════╪════════════╡\n",
       "│ 06-Dec-2024 ┆            ┆            ┆ Gabriella, ┆ … ┆          ┆      ┆          ┆            │\n",
       "│ 11:37:40    ┆            ┆            ┆ Berardi    ┆   ┆          ┆      ┆          ┆            │\n",
       "│ 06-Dec-2024 ┆            ┆            ┆ Edoardo,   ┆ … ┆          ┆      ┆          ┆            │\n",
       "│ 15:56:20    ┆            ┆            ┆ Sezzi      ┆   ┆          ┆      ┆          ┆            │\n",
       "└─────────────┴────────────┴────────────┴────────────┴───┴──────────┴──────┴──────────┴────────────┘"
      ]
     },
     "execution_count": 17,
     "metadata": {},
     "output_type": "execute_result"
    }
   ],
   "source": [
    "# Convert to a DataFrame, using the first row as the header\n",
    "df = pl.DataFrame(data, schema=modified_headers, orient='row')  # Use the first row as the header\n",
    "df.head()"
   ]
  },
  {
   "cell_type": "code",
   "execution_count": 18,
   "metadata": {},
   "outputs": [],
   "source": [
    "libretti = df.select('Carica il tuo libretto universitario')"
   ]
  },
  {
   "cell_type": "code",
   "execution_count": 19,
   "metadata": {},
   "outputs": [
    {
     "name": "stdout",
     "output_type": "stream",
     "text": [
      "\n",
      "https://drive.google.com/file/d/1Wd6IlZTi7YuEhS1CY14uahzAitP5gmDb/view?usp=drivesdk\n"
     ]
    }
   ],
   "source": [
    "for libretto in libretti.rows(named=True):\n",
    "    print(list(libretto.values())[0])\n",
    "    lib = list(libretto.values())[0]\n",
    "    if lib.startswith('https'):\n",
    "        with open(f'file.pdf', 'wb') as out_file:\n",
    "            content = requests.get(lib, stream=True).content\n",
    "            out_file.write(content)"
   ]
  },
  {
   "cell_type": "code",
   "execution_count": 20,
   "metadata": {},
   "outputs": [],
   "source": [
    "def login_with_service_account():\n",
    "    \"\"\"\n",
    "    Google Drive service with a service account.\n",
    "    note: for the service account to work, you need to share the folder or\n",
    "    files with the service account email.\n",
    "\n",
    "    :return: google auth\n",
    "    \"\"\"\n",
    "    # Define the settings dict to use a service account\n",
    "    # We also can use all options available for the settings dict like\n",
    "    # oauth_scope,save_credentials,etc.\n",
    "    settings = {\n",
    "                \"client_config_backend\": \"service\",\n",
    "                \"service_config\": {\n",
    "                    \"client_json_file_path\": os.getenv('GOOGLE_APPLICATION_CREDENTIALS'),\n",
    "                }\n",
    "            }\n",
    "    # Create instance of GoogleAuth\n",
    "    gauth = GoogleAuth(settings=settings)\n",
    "    # Authenticate\n",
    "    gauth.ServiceAuth()\n",
    "    return gauth"
   ]
  },
  {
   "cell_type": "code",
   "execution_count": 21,
   "metadata": {},
   "outputs": [],
   "source": [
    "gauth = login_with_service_account()\n",
    "drive = GoogleDrive(gauth)"
   ]
  },
  {
   "cell_type": "code",
   "execution_count": 22,
   "metadata": {},
   "outputs": [],
   "source": [
    "# Define the MIME types for PDF, DOC, and DOCX\n",
    "mime_types = [\n",
    "    \"application/pdf\",\n",
    "    \"application/msword\",  # DOC\n",
    "    \"application/vnd.openxmlformats-officedocument.wordprocessingml.document\"  # DOCX\n",
    "]\n",
    "\n",
    "# Create a query to filter files by MIME type\n",
    "mime_query = \" or \".join([f\"mimeType='{mime_type}'\" for mime_type in mime_types])\n"
   ]
  },
  {
   "cell_type": "code",
   "execution_count": 23,
   "metadata": {},
   "outputs": [],
   "source": [
    "file_list = drive.ListFile({'q': f\"trashed=false and ({mime_query})\"}).GetList()"
   ]
  },
  {
   "cell_type": "code",
   "execution_count": 24,
   "metadata": {},
   "outputs": [
    {
     "name": "stdout",
     "output_type": "stream",
     "text": [
      "title: StudyPlan_EdoardoSezzi.pdf\n",
      "title: CV_SezziEdoardo.pdf\n"
     ]
    }
   ],
   "source": [
    "for i, file in enumerate(file_list):\n",
    "  file_title = file['title']\n",
    "  print('title: %s' % (file_title))\n",
    "  if file_title.split('_')[0] == 'CV':\n",
    "    folder_path = cv_folder_path\n",
    "  elif file_title.split('_')[0] == 'StudyPlan':\n",
    "    folder_path = study_plan_folder_path\n",
    "  else:\n",
    "    print('Prefix is unknown.')\n",
    "    \n",
    "  # Create the directory if it doesn't exist\n",
    "  os.makedirs(folder_path, exist_ok=True)\n",
    "  file_path = os.path.join(folder_path, f'{file_title}')\n",
    "  file.GetContentFile(file_path)"
   ]
  }
 ],
 "metadata": {
  "kernelspec": {
   "display_name": ".venv",
   "language": "python",
   "name": "python3"
  },
  "language_info": {
   "codemirror_mode": {
    "name": "ipython",
    "version": 3
   },
   "file_extension": ".py",
   "mimetype": "text/x-python",
   "name": "python",
   "nbconvert_exporter": "python",
   "pygments_lexer": "ipython3",
   "version": "3.11.10"
  }
 },
 "nbformat": 4,
 "nbformat_minor": 2
}
